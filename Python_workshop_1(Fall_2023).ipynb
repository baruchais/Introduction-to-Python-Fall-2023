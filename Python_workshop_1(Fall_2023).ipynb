{
  "nbformat": 4,
  "nbformat_minor": 0,
  "metadata": {
    "colab": {
      "provenance": [],
      "include_colab_link": true
    },
    "kernelspec": {
      "name": "python3",
      "display_name": "Python 3"
    },
    "language_info": {
      "name": "python"
    }
  },
  "cells": [
    {
      "cell_type": "markdown",
      "metadata": {
        "id": "view-in-github",
        "colab_type": "text"
      },
      "source": [
        "<a href=\"https://colab.research.google.com/github/baruchais/Introduction-to-Python-Fall-2023/blob/main/Python_workshop_1(Fall_2023).ipynb\" target=\"_parent\"><img src=\"https://colab.research.google.com/assets/colab-badge.svg\" alt=\"Open In Colab\"/></a>"
      ]
    },
    {
      "cell_type": "markdown",
      "source": [
        "#**Welcome to our annual Intro to Python Workshop** 🐍\n",
        "\n",
        "##*   Beginner friendly\n",
        "##*   Feel free to leave your comments or questions in the chat!\n",
        "\n",
        "\n"
      ],
      "metadata": {
        "id": "tW1AasTrDGpW"
      }
    },
    {
      "cell_type": "markdown",
      "source": [
        "##**Comments**"
      ],
      "metadata": {
        "id": "XEmNR_pVnYwm"
      }
    },
    {
      "cell_type": "code",
      "source": [
        "# comments are notes of explanations that document lines or sections of a program.\n",
        "\n",
        "# there are two types of comments available to use\n",
        "\n",
        "  # single line comments like this one\n",
        "  #\n",
        "  #\n",
        "# or\n",
        "\n",
        "'''\n",
        " comments like these\n",
        " where you can have multiple\n",
        " lines\n",
        "'''\n",
        "\n",
        "print(\"Hello world\")"
      ],
      "metadata": {
        "id": "TV1-pXK3ncyD",
        "colab": {
          "base_uri": "https://localhost:8080/"
        },
        "outputId": "2e86d914-e42f-42fc-e2c8-7a975198adf1"
      },
      "execution_count": null,
      "outputs": [
        {
          "output_type": "stream",
          "name": "stdout",
          "text": [
            "Hello world\n"
          ]
        }
      ]
    },
    {
      "cell_type": "markdown",
      "source": [
        "#**Displaying Output with the *print()* function**"
      ],
      "metadata": {
        "id": "4QI9CJJTgOGr"
      }
    },
    {
      "cell_type": "code",
      "source": [
        "# You use the print function to display output in a Python program\n",
        "\n",
        "# A function is a piece of prewritten code that performs an operation.\n",
        "# Python has numerous buil-in functions that perform various operation.\n",
        "\n",
        "# example:\n",
        "print(\"Hello World\")\n",
        "\n",
        "print('In-person classes began this week: *sad*')\n",
        "\n",
        "print()\n",
        "\n",
        "print(\"Baruch College\")\n",
        "print(\"55 Lexington Ave,\")\n",
        "print(\"New York,\")\n",
        "print(\"NY, 10010\")\n"
      ],
      "metadata": {
        "id": "xi7wfjKMgx1O",
        "colab": {
          "base_uri": "https://localhost:8080/"
        },
        "outputId": "c1a39515-220c-44c3-be4e-ad2b5e1e419d"
      },
      "execution_count": null,
      "outputs": [
        {
          "output_type": "stream",
          "name": "stdout",
          "text": [
            "Hello World\n",
            "In-person classes began this week: *sad*\n",
            "\n",
            "Baruch College\n",
            "55 Lexington Ave,\n",
            "New York,\n",
            "NY, 10010\n"
          ]
        }
      ]
    },
    {
      "cell_type": "markdown",
      "source": [
        "##**Strings - Data Type 1**"
      ],
      "metadata": {
        "id": "gIz2h1gbktzJ"
      }
    },
    {
      "cell_type": "code",
      "source": [
        "# Sequence of characters\n",
        "# Strings must be encapsulated with quotations \"\" or ''\n",
        "\n",
        "print(\"Hello World\")\n",
        "\n",
        "# You can check what data type it is using the type() function\n",
        "\n",
        "print(type(\"Hello World\"))\n",
        "print()\n",
        "\n",
        "#More examples of string data\n",
        "\n",
        "print('In person class began this week: *sad* ')\n",
        "print(\"We are glad you're here though\")\n",
        "print(type(\"this is another string\"))\n",
        "print(type(\"this is another string\"))\n"
      ],
      "metadata": {
        "id": "4lDV7OgYgJHW",
        "colab": {
          "base_uri": "https://localhost:8080/"
        },
        "outputId": "79431585-d79a-4d6d-af3e-ef71868e3ab7"
      },
      "execution_count": null,
      "outputs": [
        {
          "output_type": "stream",
          "name": "stdout",
          "text": [
            "Hello World\n",
            "<class 'str'>\n",
            "\n",
            "In person class began this week: *sad* \n",
            "We are glad you're here though\n",
            "<class 'str'>\n",
            "<class 'str'>\n"
          ]
        }
      ]
    },
    {
      "cell_type": "markdown",
      "source": [
        "##**Intergers ('int') - Data Type 2**\n",
        "\n",
        "###Mathematical Operations"
      ],
      "metadata": {
        "id": "QWqCMtjfJv-G"
      }
    },
    {
      "cell_type": "code",
      "source": [
        "# Integers refer to counting numbers (i.e 0, 1, 2...) and negative #numbers (i.e. -3, -2, -1, ) with NO decimals\n",
        "# They DO NOT need to be encapsulated in quotations\n",
        "\n",
        "# example:\n",
        "\n",
        "print(100)\n",
        "print(type(100))\n",
        "print(type(-100))\n"
      ],
      "metadata": {
        "id": "2XoE4NNUIrMW",
        "colab": {
          "base_uri": "https://localhost:8080/"
        },
        "outputId": "c92f4a34-3961-488d-8cca-66b6b6f9f5f6"
      },
      "execution_count": null,
      "outputs": [
        {
          "output_type": "stream",
          "name": "stdout",
          "text": [
            "100\n",
            "<class 'int'>\n",
            "<class 'int'>\n"
          ]
        }
      ]
    },
    {
      "cell_type": "code",
      "source": [
        "# Matemathical operations\n",
        "\n",
        "# (+) Addition\n",
        "\n",
        "print(1+1)"
      ],
      "metadata": {
        "id": "Oz1MYz4A2EZW",
        "colab": {
          "base_uri": "https://localhost:8080/"
        },
        "outputId": "ee11e252-f9f8-4697-9242-f92da8c5b7ac"
      },
      "execution_count": null,
      "outputs": [
        {
          "output_type": "stream",
          "name": "stdout",
          "text": [
            "2\n"
          ]
        }
      ]
    },
    {
      "cell_type": "code",
      "source": [
        "# (-) Subtraction\n",
        "\n",
        "print(2-1)"
      ],
      "metadata": {
        "id": "kSZxFxbG2M_n",
        "colab": {
          "base_uri": "https://localhost:8080/"
        },
        "outputId": "0e13532e-73f8-4fa6-f814-a1cf79553049"
      },
      "execution_count": null,
      "outputs": [
        {
          "output_type": "stream",
          "name": "stdout",
          "text": [
            "1\n"
          ]
        }
      ]
    },
    {
      "cell_type": "code",
      "source": [
        "# (/) Division\n",
        "\n",
        "print(3/2)"
      ],
      "metadata": {
        "id": "dHEFZ3QD2Nwv",
        "colab": {
          "base_uri": "https://localhost:8080/"
        },
        "outputId": "b2d3e7ab-64cf-4a9b-cab0-ee1d85ef5b02"
      },
      "execution_count": null,
      "outputs": [
        {
          "output_type": "stream",
          "name": "stdout",
          "text": [
            "1.5\n"
          ]
        }
      ]
    },
    {
      "cell_type": "code",
      "source": [
        "# (*) Multiplication\n",
        "\n",
        "print(4*2)"
      ],
      "metadata": {
        "id": "5frc8DeW2Qxx",
        "colab": {
          "base_uri": "https://localhost:8080/"
        },
        "outputId": "c96f3d49-acf8-43e7-f589-26557352aadc"
      },
      "execution_count": null,
      "outputs": [
        {
          "output_type": "stream",
          "name": "stdout",
          "text": [
            "8\n"
          ]
        }
      ]
    },
    {
      "cell_type": "code",
      "source": [
        "# (%) Modulus (Remainder) - This will divide the two numbers and return the remainder\n",
        "\n",
        "print(10 % 3)\n"
      ],
      "metadata": {
        "id": "3vVtdUe92UFB",
        "colab": {
          "base_uri": "https://localhost:8080/"
        },
        "outputId": "9316d77a-66bd-47d7-de01-e672fa11af9f"
      },
      "execution_count": null,
      "outputs": [
        {
          "output_type": "stream",
          "name": "stdout",
          "text": [
            "1\n"
          ]
        }
      ]
    },
    {
      "cell_type": "code",
      "source": [
        "# (**) Exponent - Two multiplication operators make an exponent operator\n",
        "\n",
        "print(5**2)"
      ],
      "metadata": {
        "id": "C2nkzVJ12WRy",
        "colab": {
          "base_uri": "https://localhost:8080/"
        },
        "outputId": "4a56c053-17f5-468b-a114-75516bd70679"
      },
      "execution_count": null,
      "outputs": [
        {
          "output_type": "stream",
          "name": "stdout",
          "text": [
            "25\n"
          ]
        }
      ]
    },
    {
      "cell_type": "markdown",
      "source": [
        "##**Floats - Data Type 3**"
      ],
      "metadata": {
        "id": "PMAojH9VLnWm"
      }
    },
    {
      "cell_type": "code",
      "source": [
        "''' Floats refer to numbers (positve and negative) which contain decimals\n",
        "Like integers, they DO NOT need to be encapsulated in quotations '''\n",
        "\n",
        "print(69.9)\n",
        "print(type(69.9))\n",
        "print(24.0)\n",
        "print(type(24.0))\n",
        "\n",
        "# Floats and integers have similar operations\n",
        "\n",
        "# Addition\n",
        "print(\"1.1 + 1.1 =\", 1.1 + 1.1)\n",
        "print()\n",
        "\n",
        "# Subtraction\n",
        "print(\"6.4 - 2.0 =\", 6.4 - 2.0)\n",
        "print()\n",
        "\n",
        "# Multiplication\n",
        "print(\"36.5 * 74.2 =\", 36.5 * 74.2)\n",
        "print()\n",
        "\n",
        "# Division\n",
        "print(\"24.6 / 11.9 =\", 24.6 / 11.9)\n",
        "print()\n",
        "\n",
        "# Integer Division\n",
        "print(\"24.6 // 11.9 =\", 24.6 // 11.9)\n",
        "print()\n",
        "\n",
        "# Modulus\n",
        "print(\"6.5 % 2.0 =\", 6.5 % 2.0)\n",
        "print()\n",
        "\n",
        "# Exponent\n",
        "print(\"6.5**2.0 =\", 6.5**2.0)"
      ],
      "metadata": {
        "id": "bjO8diVKod1K",
        "colab": {
          "base_uri": "https://localhost:8080/"
        },
        "outputId": "96ca74bf-f389-43f4-cf8c-a90c65ab59f9"
      },
      "execution_count": null,
      "outputs": [
        {
          "output_type": "stream",
          "name": "stdout",
          "text": [
            "69.9\n",
            "<class 'float'>\n",
            "24.0\n",
            "<class 'float'>\n",
            "1.1 + 1.1 = 2.2\n",
            "\n",
            "6.4 - 2.0 = 4.4\n",
            "\n",
            "36.5 * 74.2 = 2708.3\n",
            "\n",
            "24.6 / 11.9 = 2.0672268907563027\n",
            "\n",
            "24.6 // 11.9 = 2.0\n",
            "\n",
            "6.5 % 2.0 = 0.5\n",
            "\n",
            "6.5**2.0 = 42.25\n"
          ]
        }
      ]
    },
    {
      "cell_type": "markdown",
      "source": [
        "##**Booleans - Data Type 4**"
      ],
      "metadata": {
        "id": "f8x43hI6zSX2"
      }
    },
    {
      "cell_type": "code",
      "source": [
        "# What is a Boolean?\n",
        "# Boolean is a logical data type that can only have the values of True or False.\n",
        "# They DO NOT need to be encapsulated in quotation marks\n",
        "\n",
        "# Examples:\n",
        "\n",
        "print(True)\n",
        "print(type(True))\n",
        "print(False)\n",
        "print(type(False))"
      ],
      "metadata": {
        "id": "R5W2-dYj4yrT",
        "colab": {
          "base_uri": "https://localhost:8080/"
        },
        "outputId": "75491336-f864-4f6f-8d8d-c9f89331993c"
      },
      "execution_count": null,
      "outputs": [
        {
          "output_type": "stream",
          "name": "stdout",
          "text": [
            "True\n",
            "<class 'bool'>\n",
            "False\n",
            "<class 'bool'>\n"
          ]
        }
      ]
    },
    {
      "cell_type": "code",
      "source": [
        "# Let's use some comparison operators\n",
        "\n",
        "# Equal operator\n",
        "print(1 == 1)\n",
        "\n",
        "# Not Equal operator\n",
        "print(1 != 1)\n",
        "\n",
        "# Greater than operator\n",
        "print(1 > 1)\n",
        "\n",
        "# Less than operator\n",
        "print(1 < 1)\n",
        "\n",
        "# Greater than or equal to operator\n",
        "print(1 >= 1)\n",
        "\n",
        "# Less than or equal to operator\n",
        "print(1 <= 1)\n",
        "\n",
        "print(\"Mylo\" == \"Myl\")\n"
      ],
      "metadata": {
        "id": "hFDy4x8W6Ln7",
        "colab": {
          "base_uri": "https://localhost:8080/"
        },
        "outputId": "111d0f87-4980-498a-f6ad-c9419689f053"
      },
      "execution_count": null,
      "outputs": [
        {
          "output_type": "stream",
          "name": "stdout",
          "text": [
            "True\n",
            "False\n",
            "False\n",
            "False\n",
            "True\n",
            "True\n",
            "False\n"
          ]
        }
      ]
    },
    {
      "cell_type": "code",
      "source": [
        "\n",
        "# You can also use Logical Operators to combine conditional statements\n",
        "\n",
        "# And operator\n",
        "print('And operator examples:')\n",
        "print(True and True) # -> True\n",
        "print(True and False) # -> False\n",
        "print(False and False) # -> False\n",
        "\n",
        "# Or operator\n",
        "print('\\nOr operator examples:')\n",
        "print(True or True) # -> True\n",
        "print(True or False) # -> True\n",
        "print(False or False) # -> False\n",
        "\n",
        "# Not operator\n",
        "print('\\nNot operator examples:')\n",
        "print(not True) # -> False\n",
        "print(not False) # -> True"
      ],
      "metadata": {
        "id": "RS3M-k1fV8lT",
        "colab": {
          "base_uri": "https://localhost:8080/"
        },
        "outputId": "352887ea-7500-4926-f31b-c1bf227b62e4"
      },
      "execution_count": null,
      "outputs": [
        {
          "output_type": "stream",
          "name": "stdout",
          "text": [
            "And operator examples:\n",
            "True\n",
            "False\n",
            "False\n",
            "\n",
            "Or operator examples:\n",
            "True\n",
            "True\n",
            "False\n",
            "\n",
            "Not operator examples:\n",
            "False\n",
            "True\n"
          ]
        }
      ]
    },
    {
      "cell_type": "markdown",
      "source": [
        "##**If Statements**"
      ],
      "metadata": {
        "id": "NWS_bu-21IP5"
      }
    },
    {
      "cell_type": "code",
      "source": [
        "# Boolean expressions can be used in conditional statements called If statements\n",
        "# Indentation is very important\n",
        "\n",
        "if 100 == 100:\n",
        "  print(\"This is true!\")"
      ],
      "metadata": {
        "id": "2oalA8es1NFL",
        "colab": {
          "base_uri": "https://localhost:8080/"
        },
        "outputId": "0f64d89d-eca7-40b3-c751-648520d1c676"
      },
      "execution_count": null,
      "outputs": [
        {
          "output_type": "stream",
          "name": "stdout",
          "text": [
            "This is true!\n"
          ]
        }
      ]
    },
    {
      "cell_type": "code",
      "source": [
        "# Since the condition isn't met, it will not print the desired output\n",
        "\n",
        "if 100 != 100:\n",
        "  print(\"This is true!\")"
      ],
      "metadata": {
        "id": "CkpwxhOT1NLW"
      },
      "execution_count": null,
      "outputs": []
    },
    {
      "cell_type": "code",
      "source": [
        "# The else keyword is an optional statement that catches anything which isn't caught by the preceding conditions.\n",
        "\n",
        "if 100 == 100:\n",
        "  print(\"This is true!\")\n",
        "else:\n",
        "  print(\"This is false!\")"
      ],
      "metadata": {
        "id": "g0nIoxmt1W3M",
        "colab": {
          "base_uri": "https://localhost:8080/"
        },
        "outputId": "4893ebeb-038f-4dc8-e730-833dca1d82ce"
      },
      "execution_count": null,
      "outputs": [
        {
          "output_type": "stream",
          "name": "stdout",
          "text": [
            "This is true!\n"
          ]
        }
      ]
    },
    {
      "cell_type": "markdown",
      "source": [
        "##**If-Else Statements**"
      ],
      "metadata": {
        "id": "vTtfQEiR1leB"
      }
    },
    {
      "cell_type": "code",
      "source": [
        "# Since 1 is equal to 1, python ignores the first condition and goes to else.\n",
        "\n",
        "if 100 != 100:\n",
        "  print(\"This statement is true!\")\n",
        "else:\n",
        "  print(\"This statement is false!\")"
      ],
      "metadata": {
        "id": "tyuS3ay-1wEJ",
        "colab": {
          "base_uri": "https://localhost:8080/"
        },
        "outputId": "2b9b30c1-4478-4e5b-a27c-a9ac4a423728"
      },
      "execution_count": null,
      "outputs": [
        {
          "output_type": "stream",
          "name": "stdout",
          "text": [
            "This statement is false!\n"
          ]
        }
      ]
    },
    {
      "cell_type": "markdown",
      "source": [
        "##**If-Elif-Else Statements**"
      ],
      "metadata": {
        "id": "sbaMWCVo3QoL"
      }
    },
    {
      "cell_type": "code",
      "source": [
        "# What happens if you wanna test multiple conditions?\n",
        "\n",
        "if \"Scooby\" == \"Velma\":\n",
        "  print(\"Scooby equals Velma\")\n",
        "\n",
        "elif \"Shaggy\" == \"Scooby\":\n",
        "  print(\"Shaggy equals Scooby\")\n",
        "\n",
        "elif \"Velma\" == \"Fred\":\n",
        "  print(\"Velma equals Fred\")\n",
        "\n",
        "else:\n",
        "  print(\"None of them are the same characters\")"
      ],
      "metadata": {
        "id": "mrbd2P_e3Y4u",
        "colab": {
          "base_uri": "https://localhost:8080/"
        },
        "outputId": "23c02a20-1871-44de-9697-545652e8d396"
      },
      "execution_count": null,
      "outputs": [
        {
          "output_type": "stream",
          "name": "stdout",
          "text": [
            "None of them are the same characters\n"
          ]
        }
      ]
    },
    {
      "cell_type": "markdown",
      "source": [
        "##**Variables**"
      ],
      "metadata": {
        "id": "ZwlB8R9t8w0z"
      }
    },
    {
      "cell_type": "code",
      "source": [
        "# A variable is a name that represents a value stored in the computer's memory.\n",
        "\n",
        "# Variable rules:\n",
        "\n",
        "#  1. You cannot use one of Python's key words as a variable name.\n",
        "#  2. A variable name cannot contain spaces\n",
        "#  3. The first character must be one of the letters a through z, A through Z, or underscore character(_).\n",
        "#  4. After the first character, then you can use letters, digits, or underscores.\n",
        "#  5. Uppercase and lowercase characters are distinc. Varible Cat and cat are not the same."
      ],
      "metadata": {
        "id": "K4Dk96ieIEGh"
      },
      "execution_count": null,
      "outputs": []
    },
    {
      "cell_type": "code",
      "source": [
        "# creating a variable with assignment (=) statements.\n",
        "# The left side is the variable and the right side is the value we want to assign to the variable.\n",
        "Cat = \"Mylo\"\n",
        "\n",
        "\n",
        "\n",
        "print(Cat)\n",
        "print(type(Cat))"
      ],
      "metadata": {
        "id": "DV-dCsPlIIzQ",
        "colab": {
          "base_uri": "https://localhost:8080/"
        },
        "outputId": "58991d9d-bcc7-45e8-e6d1-7f3d476e739c"
      },
      "execution_count": null,
      "outputs": [
        {
          "output_type": "stream",
          "name": "stdout",
          "text": [
            "Mylo\n",
            "<class 'str'>\n"
          ]
        }
      ]
    },
    {
      "cell_type": "code",
      "source": [
        "color = \"black and white\"\n",
        "age = 6\n",
        "\n",
        "print(Cat)\n",
        "print(color)\n",
        "print(age, \"weeks old\")"
      ],
      "metadata": {
        "id": "EzkOGoVC80z9",
        "colab": {
          "base_uri": "https://localhost:8080/"
        },
        "outputId": "0f4c30fe-7b06-4c6a-9aee-331825258732"
      },
      "execution_count": null,
      "outputs": [
        {
          "output_type": "stream",
          "name": "stdout",
          "text": [
            "Mylo\n",
            "black and white\n",
            "6 weeks old\n"
          ]
        }
      ]
    },
    {
      "cell_type": "code",
      "source": [
        "# You can also redefine variables.\n",
        "\n",
        "Cat = \"Mylo\"\n",
        "print(Cat)\n",
        "\n",
        "\n",
        "Cat = \"Milo\"\n",
        "print(Cat)\n",
        "\n",
        "\n",
        "# Even though Python allows you to do this, this is not recommended since it could lead to more problems in the future\n",
        "Cat = 6\n",
        "print(Cat)"
      ],
      "metadata": {
        "id": "BBVWxUakGvXg",
        "colab": {
          "base_uri": "https://localhost:8080/"
        },
        "outputId": "867f573d-067b-4ce2-b9f6-31422b61adbe"
      },
      "execution_count": null,
      "outputs": [
        {
          "output_type": "stream",
          "name": "stdout",
          "text": [
            "Mylo\n",
            "Milo\n",
            "6\n"
          ]
        }
      ]
    },
    {
      "cell_type": "code",
      "source": [
        "#We can reassign variables to another data type. This can be done with casting\n",
        "#5 is an integer, but lets turn it into a float\n",
        "\n",
        "age = 6\n",
        "print(type(age))\n",
        "print(age)\n",
        "print() #leaving an empty line space\n",
        "\n",
        "age = float(age)\n",
        "print(type(age))\n",
        "print(age)"
      ],
      "metadata": {
        "id": "oFUa0EyJMD0I",
        "colab": {
          "base_uri": "https://localhost:8080/"
        },
        "outputId": "0aa5d492-dafe-415a-faa8-49ca01ae011e"
      },
      "execution_count": null,
      "outputs": [
        {
          "output_type": "stream",
          "name": "stdout",
          "text": [
            "<class 'int'>\n",
            "6\n",
            "\n",
            "<class 'float'>\n",
            "6.0\n"
          ]
        }
      ]
    },
    {
      "cell_type": "code",
      "source": [
        "# If you want to change one data type to another, you can use casting methods\n",
        "\n",
        "fingers = 10\n",
        "print(fingers, type(fingers))\n",
        "print()\n",
        "\n",
        "fingers = float(5)\n",
        "print(fingers, type(fingers))\n",
        "print()\n",
        "\n",
        "fingers = str(5)\n",
        "print(fingers, type(fingers))\n",
        "print()\n",
        "\n",
        "fingers = bool(5) # The reason why this returns True is because it is not a value that equates to 0, such as None or 0 or \"\"\n",
        "print(fingers, type(fingers))"
      ],
      "metadata": {
        "id": "Q1rjxnacYjfL",
        "colab": {
          "base_uri": "https://localhost:8080/"
        },
        "outputId": "6615af80-1edc-4ddc-e318-f91ff0b3bd12"
      },
      "execution_count": null,
      "outputs": [
        {
          "output_type": "stream",
          "name": "stdout",
          "text": [
            "10 <class 'int'>\n",
            "\n",
            "5.0 <class 'float'>\n",
            "\n",
            "5 <class 'str'>\n",
            "\n",
            "True <class 'bool'>\n"
          ]
        }
      ]
    },
    {
      "cell_type": "code",
      "source": [
        "# Testing None, 0, and \"\"\n",
        "\n",
        "fingers = bool(None)\n",
        "print(fingers, type(fingers))\n",
        "\n",
        "fingers = bool(0)\n",
        "print(fingers, type(fingers))\n",
        "\n",
        "fingers = bool(\"\")\n",
        "print(fingers, type(fingers))"
      ],
      "metadata": {
        "id": "FnBXHb-wcQy7",
        "colab": {
          "base_uri": "https://localhost:8080/"
        },
        "outputId": "3fe58a79-4f1b-4f5a-8a8d-55fdc96f1c41"
      },
      "execution_count": null,
      "outputs": [
        {
          "output_type": "stream",
          "name": "stdout",
          "text": [
            "False <class 'bool'>\n",
            "False <class 'bool'>\n",
            "False <class 'bool'>\n"
          ]
        }
      ]
    },
    {
      "cell_type": "code",
      "source": [
        "# Casting will not work for conversions:\n",
        "  # From string to integer\n",
        "  # From string to float\n",
        "\n",
        "#examples:\n",
        "# String to integer conversion, you will get an error.\n",
        "print(int(\"Hello world\"))"
      ],
      "metadata": {
        "id": "xY6hkBSAglj8",
        "colab": {
          "base_uri": "https://localhost:8080/",
          "height": 215
        },
        "outputId": "96f802d1-9eb8-4d82-9f49-cf871be61b87"
      },
      "execution_count": null,
      "outputs": [
        {
          "output_type": "error",
          "ename": "ValueError",
          "evalue": "ignored",
          "traceback": [
            "\u001b[0;31m---------------------------------------------------------------------------\u001b[0m",
            "\u001b[0;31mValueError\u001b[0m                                Traceback (most recent call last)",
            "\u001b[0;32m<ipython-input-29-2e76e9f852ae>\u001b[0m in \u001b[0;36m<cell line: 7>\u001b[0;34m()\u001b[0m\n\u001b[1;32m      5\u001b[0m \u001b[0;31m#examples:\u001b[0m\u001b[0;34m\u001b[0m\u001b[0;34m\u001b[0m\u001b[0m\n\u001b[1;32m      6\u001b[0m \u001b[0;31m# String to integer conversion\u001b[0m\u001b[0;34m\u001b[0m\u001b[0;34m\u001b[0m\u001b[0m\n\u001b[0;32m----> 7\u001b[0;31m \u001b[0mprint\u001b[0m\u001b[0;34m(\u001b[0m\u001b[0mint\u001b[0m\u001b[0;34m(\u001b[0m\u001b[0;34m\"Hello world\"\u001b[0m\u001b[0;34m)\u001b[0m\u001b[0;34m)\u001b[0m\u001b[0;34m\u001b[0m\u001b[0;34m\u001b[0m\u001b[0m\n\u001b[0m",
            "\u001b[0;31mValueError\u001b[0m: invalid literal for int() with base 10: 'Hello world'"
          ]
        }
      ]
    },
    {
      "cell_type": "code",
      "source": [
        "# String to float conversion\n",
        "# You will get an error\n",
        "print(float(\"Hello world\"))"
      ],
      "metadata": {
        "id": "VUizAcOXg6iq",
        "colab": {
          "base_uri": "https://localhost:8080/",
          "height": 197
        },
        "outputId": "4d933f08-7016-4e10-fb26-6f81466560e2"
      },
      "execution_count": null,
      "outputs": [
        {
          "output_type": "error",
          "ename": "ValueError",
          "evalue": "ignored",
          "traceback": [
            "\u001b[0;31m---------------------------------------------------------------------------\u001b[0m",
            "\u001b[0;31mValueError\u001b[0m                                Traceback (most recent call last)",
            "\u001b[0;32m<ipython-input-32-0b58ffb994a2>\u001b[0m in \u001b[0;36m<cell line: 2>\u001b[0;34m()\u001b[0m\n\u001b[1;32m      1\u001b[0m \u001b[0;31m# String to float conversion\u001b[0m\u001b[0;34m\u001b[0m\u001b[0;34m\u001b[0m\u001b[0m\n\u001b[0;32m----> 2\u001b[0;31m \u001b[0mprint\u001b[0m\u001b[0;34m(\u001b[0m\u001b[0mfloat\u001b[0m\u001b[0;34m(\u001b[0m\u001b[0;34m\"Hello world\"\u001b[0m\u001b[0;34m)\u001b[0m\u001b[0;34m)\u001b[0m\u001b[0;34m\u001b[0m\u001b[0;34m\u001b[0m\u001b[0m\n\u001b[0m",
            "\u001b[0;31mValueError\u001b[0m: could not convert string to float: 'Hello world'"
          ]
        }
      ]
    },
    {
      "cell_type": "code",
      "source": [
        "# Unless the string itself represents the desired data type\n",
        "# This will work because there's a number in the string\n",
        "\n",
        "print(int(\"100\"))\n",
        "\n",
        "print(type(int(\"100\")))"
      ],
      "metadata": {
        "id": "xfbHeN4shKVO",
        "colab": {
          "base_uri": "https://localhost:8080/"
        },
        "outputId": "5757c110-a4f6-447d-cc0a-6946b34a82af"
      },
      "execution_count": null,
      "outputs": [
        {
          "output_type": "stream",
          "name": "stdout",
          "text": [
            "100\n",
            "<class 'int'>\n"
          ]
        }
      ]
    },
    {
      "cell_type": "markdown",
      "source": [
        "##**Input Function**"
      ],
      "metadata": {
        "id": "tU101Okyo_zf"
      }
    },
    {
      "cell_type": "code",
      "source": [
        "# Programs commonly need to read input typed by the user on the keyboard.\n",
        "# We will do this using the input() function.\n",
        "\n",
        "#format:  variable = input(prompt)\n",
        "\n",
        "input(\"Enter your first name: \")"
      ],
      "metadata": {
        "id": "A1qDRGMopDet",
        "colab": {
          "base_uri": "https://localhost:8080/",
          "height": 54
        },
        "outputId": "5166dd95-0e1c-4f68-c701-d14e6860fef0"
      },
      "execution_count": null,
      "outputs": [
        {
          "name": "stdout",
          "output_type": "stream",
          "text": [
            "Enter your first name: ari\n"
          ]
        },
        {
          "output_type": "execute_result",
          "data": {
            "text/plain": [
              "'ari'"
            ],
            "application/vnd.google.colaboratory.intrinsic+json": {
              "type": "string"
            }
          },
          "metadata": {},
          "execution_count": 35
        }
      ]
    },
    {
      "cell_type": "code",
      "source": [
        "#We'll be able take this information, assign it to a variable, and then do something with that variable.\n",
        "\n",
        "# Get the user's first name\n",
        "name = input(\"Enter your first name and last name: \")\n",
        "\n",
        "# Print a greeting to the user\n",
        "print(\"Hello \"+ name)\n"
      ],
      "metadata": {
        "id": "B9EvFd3aqxbb",
        "colab": {
          "base_uri": "https://localhost:8080/"
        },
        "outputId": "872b477e-de6e-4a5f-86a4-579d59cd8f29"
      },
      "execution_count": null,
      "outputs": [
        {
          "output_type": "stream",
          "name": "stdout",
          "text": [
            "Enter your first name and last name: ari torres\n",
            "Hello ari torres\n"
          ]
        }
      ]
    },
    {
      "cell_type": "code",
      "source": [
        "'''The print statement above uses concatenation to combine the elements.\n",
        "NOTE: You can only concatenate a string with another string.\n",
        "For example, if I want to combine a variable that holds an integer with a string, it WILL GIVE AN ERROR. '''\n",
        "\n",
        "print(\"Mylo is\" + 6 + \"weeks old\")\n"
      ],
      "metadata": {
        "id": "VgBsnxifr00s",
        "colab": {
          "base_uri": "https://localhost:8080/",
          "height": 215
        },
        "outputId": "2b34eaa4-4d51-45f3-b685-7f9f69148034"
      },
      "execution_count": null,
      "outputs": [
        {
          "output_type": "error",
          "ename": "TypeError",
          "evalue": "ignored",
          "traceback": [
            "\u001b[0;31m---------------------------------------------------------------------------\u001b[0m",
            "\u001b[0;31mTypeError\u001b[0m                                 Traceback (most recent call last)",
            "\u001b[0;32m<ipython-input-37-3cddcbdd0bfe>\u001b[0m in \u001b[0;36m<cell line: 5>\u001b[0;34m()\u001b[0m\n\u001b[1;32m      3\u001b[0m For example, if I want to combine a variable that holds an integer with a string, it will give me an error. '''\n\u001b[1;32m      4\u001b[0m \u001b[0;34m\u001b[0m\u001b[0m\n\u001b[0;32m----> 5\u001b[0;31m \u001b[0mprint\u001b[0m\u001b[0;34m(\u001b[0m\u001b[0;34m\"Mylo is\"\u001b[0m \u001b[0;34m+\u001b[0m \u001b[0;36m6\u001b[0m \u001b[0;34m+\u001b[0m \u001b[0;34m\"weeks old\"\u001b[0m\u001b[0;34m)\u001b[0m\u001b[0;34m\u001b[0m\u001b[0;34m\u001b[0m\u001b[0m\n\u001b[0m",
            "\u001b[0;31mTypeError\u001b[0m: can only concatenate str (not \"int\") to str"
          ]
        }
      ]
    },
    {
      "cell_type": "code",
      "source": [
        "#You can get around this by turning the element into a string.\n",
        "\n",
        "print(\"Mylo is \" + str(6) +\" weeks old\")"
      ],
      "metadata": {
        "id": "aocNu9Gms6nj",
        "colab": {
          "base_uri": "https://localhost:8080/"
        },
        "outputId": "137af95b-3d6a-40cd-e01f-9370dec54123"
      },
      "execution_count": null,
      "outputs": [
        {
          "output_type": "stream",
          "name": "stdout",
          "text": [
            "Mylo is 6 weeks old\n"
          ]
        }
      ]
    },
    {
      "cell_type": "code",
      "source": [
        "#You can also combine variables with a comma.\n",
        "#For example:\n",
        "\n",
        "a = \"I am\"\n",
        "b = \"bored\"\n",
        "print(a,b) #if you do this with concatenation you'd have to convert the number into a str"
      ],
      "metadata": {
        "id": "rTyiBKJEuPpA",
        "colab": {
          "base_uri": "https://localhost:8080/"
        },
        "outputId": "ada44780-68d5-480b-d32c-59567ffe75de"
      },
      "execution_count": null,
      "outputs": [
        {
          "output_type": "stream",
          "name": "stdout",
          "text": [
            "I am bored\n"
          ]
        }
      ]
    },
    {
      "cell_type": "code",
      "source": [
        "# You can also use the 'sep' parameter to change how to separate each value\n",
        "\n",
        "print(1, 2, 3, 4, 5, 6, 7, 8, 9, 10)\n",
        "print(1, 2, 3, 4, 5, 6, 7, 8, 9, 10, sep=\", \")\n",
        "print(1, 2, 3, 4, 5, 6, 7, 8, 9, 10, sep=\" -> \")"
      ],
      "metadata": {
        "id": "_r5jK3j8wEbn",
        "colab": {
          "base_uri": "https://localhost:8080/"
        },
        "outputId": "41e96fc0-a5f0-4629-f86b-f39e554cc640"
      },
      "execution_count": null,
      "outputs": [
        {
          "output_type": "stream",
          "name": "stdout",
          "text": [
            "1 2 3 4 5 6 7 8 9 10\n",
            "1, 2, 3, 4, 5, 6, 7, 8, 9, 10\n",
            "1 -> 2 -> 3 -> 4 -> 5 -> 6 -> 7 -> 8 -> 9 -> 10\n"
          ]
        }
      ]
    },
    {
      "cell_type": "code",
      "source": [
        "# There are many other cool things you can do with the print function\n",
        "# You can use this to see the other parameters if you're interested\n",
        "\n",
        "help(print)"
      ],
      "metadata": {
        "id": "4vWg-fzpwUhU",
        "colab": {
          "base_uri": "https://localhost:8080/"
        },
        "outputId": "e17fed1e-36af-4e58-8d4d-0d13d00ba789"
      },
      "execution_count": null,
      "outputs": [
        {
          "output_type": "stream",
          "name": "stdout",
          "text": [
            "Help on built-in function print in module builtins:\n",
            "\n",
            "print(...)\n",
            "    print(value, ..., sep=' ', end='\\n', file=sys.stdout, flush=False)\n",
            "    \n",
            "    Prints the values to a stream, or to sys.stdout by default.\n",
            "    Optional keyword arguments:\n",
            "    file:  a file-like object (stream); defaults to the current sys.stdout.\n",
            "    sep:   string inserted between values, default a space.\n",
            "    end:   string appended after the last value, default a newline.\n",
            "    flush: whether to forcibly flush the stream.\n",
            "\n"
          ]
        }
      ]
    },
    {
      "cell_type": "markdown",
      "source": [
        "##**Lists**"
      ],
      "metadata": {
        "id": "4zMB9yrW8wYn"
      }
    },
    {
      "cell_type": "code",
      "source": [
        "# A list is an object that contains multiple data items.\n",
        "# Lists are mutable, which means that their contents can be changed during an execution.\n",
        "# We use the [] notation to create a list\n",
        "\n",
        "characters = [\"Scooby\", \"Shaggy\", \"Velma\", \"Fred\", \"Daphne\"]\n",
        "print(type(characters))\n"
      ],
      "metadata": {
        "id": "HbG7fzJr8yrE",
        "colab": {
          "base_uri": "https://localhost:8080/"
        },
        "outputId": "0029764b-faae-40c3-c8f7-4dacfb35ab87"
      },
      "execution_count": null,
      "outputs": [
        {
          "output_type": "stream",
          "name": "stdout",
          "text": [
            "<class 'list'>\n"
          ]
        }
      ]
    },
    {
      "cell_type": "code",
      "source": [
        "# Lists don't need to contain the same types of data\n",
        "\n",
        "unknown = ['Shaggy', 12345, True, \"asdfghj\"]\n",
        "print(unknown)"
      ],
      "metadata": {
        "id": "Gv2LG7ha-JdW",
        "colab": {
          "base_uri": "https://localhost:8080/"
        },
        "outputId": "2546494b-de53-4b59-898e-0e460e63e4a0"
      },
      "execution_count": null,
      "outputs": [
        {
          "output_type": "stream",
          "name": "stdout",
          "text": [
            "['Shaggy', 12345, True, 'asdfghj']\n"
          ]
        }
      ]
    },
    {
      "cell_type": "code",
      "source": [
        "# Since lists are ordered using indicies, we can access elements in the list using them\n",
        "# What are indicies?\n",
        "\n",
        "'''You can also access elements backwards through negative indexing.\n",
        "When we perform negative indexing, we start from -1, not 0.'''\n",
        "\n",
        "#           -5   -4   -3   -2   -1\n",
        "#            0    1    2    3    4\n",
        "alphabet = [\"a\", \"b\", \"c\", \"d\", \"e\"]\n",
        "\n",
        "print(alphabet[0], alphabet[4])\n",
        "print(alphabet[-5], alphabet[-1])\n",
        "\n"
      ],
      "metadata": {
        "id": "dOkhsN_z-Owb",
        "colab": {
          "base_uri": "https://localhost:8080/"
        },
        "outputId": "15fd6142-8c64-4af6-ad26-0cbe2f2d59c8"
      },
      "execution_count": null,
      "outputs": [
        {
          "output_type": "stream",
          "name": "stdout",
          "text": [
            "a e\n",
            "a e\n"
          ]
        }
      ]
    },
    {
      "cell_type": "code",
      "source": [
        "# Let's bring back our characters and see what we can get!\n",
        "\n",
        "characters = [\"Scooby\", \"Shaggy\", \"Velma\", \"Fred\", \"Daphne\", \"Mylo ofc\"]\n",
        "\n",
        "print(characters)\n",
        "print(characters[0])\n",
        "print(characters[4])\n",
        "print(characters[5])"
      ],
      "metadata": {
        "id": "mYoKNHFXAIFD",
        "colab": {
          "base_uri": "https://localhost:8080/"
        },
        "outputId": "2cf17a40-244b-406c-a343-e21b8e697d48"
      },
      "execution_count": null,
      "outputs": [
        {
          "output_type": "stream",
          "name": "stdout",
          "text": [
            "['Scooby', 'Shaggy', 'Velma', 'Fred', 'Daphne', 'Mylo ofc']\n",
            "Scooby\n",
            "Daphne\n",
            "Mylo ofc\n"
          ]
        }
      ]
    },
    {
      "cell_type": "code",
      "source": [
        "'''Another way we can access elements is through slicing. We can achieve this by using a colon (:).\n",
        "There is a special case we MUST make note of when slicing lists, the index number we put after the colon.\n",
        "When slicing, python will grab all the elements up to but NOT including the index after the colon.\n",
        "For example: '''\n",
        "\n",
        "\n",
        "print(characters)\n",
        "print(characters[1:4])\n",
        "\n",
        "#The statement above grabbed index 1, 2, and 3, but not 4."
      ],
      "metadata": {
        "id": "ldaf5co3A87Z",
        "colab": {
          "base_uri": "https://localhost:8080/"
        },
        "outputId": "5a656bc2-6f80-438a-89a0-f59b0b7508d8"
      },
      "execution_count": null,
      "outputs": [
        {
          "output_type": "stream",
          "name": "stdout",
          "text": [
            "['Scooby', 'Shaggy', 'Velma', 'Fred', 'Daphne', 'Mylo ofc']\n",
            "['Shaggy', 'Velma', 'Fred']\n"
          ]
        }
      ]
    },
    {
      "cell_type": "code",
      "source": [
        "# If we only have a colon within the slicing notation, we will get a copy of the entire list\n",
        "\n",
        "characters = [\"Scooby\", \"Shaggy\", \"Velma\", \"Fred\", \"Daphne\", \"Mylo ofc\"]\n",
        "\n",
        "print(characters[:])"
      ],
      "metadata": {
        "id": "yYdfXxVtBOky",
        "colab": {
          "base_uri": "https://localhost:8080/"
        },
        "outputId": "a089a509-1ef6-4e02-f692-a8ceeb1b84f0"
      },
      "execution_count": null,
      "outputs": [
        {
          "output_type": "stream",
          "name": "stdout",
          "text": [
            "['Scooby', 'Shaggy', 'Velma', 'Fred', 'Daphne', 'Mylo ofc']\n"
          ]
        }
      ]
    },
    {
      "cell_type": "code",
      "source": [
        "# More examples\n",
        "print(characters)\n",
        "print(characters[3:]) # from 3rd index and to the right\n",
        "\n",
        "print(characters[:3]) # from 2nd index and to the left"
      ],
      "metadata": {
        "id": "jSyooI2JCJsh",
        "colab": {
          "base_uri": "https://localhost:8080/"
        },
        "outputId": "495752a2-d104-4edf-856b-4c101a45be6e"
      },
      "execution_count": null,
      "outputs": [
        {
          "output_type": "stream",
          "name": "stdout",
          "text": [
            "['Scooby', 'Shaggy', 'Velma', 'Fred', 'Daphne', 'Mylo ofc']\n",
            "['Fred', 'Daphne', 'Mylo ofc']\n",
            "['Scooby', 'Shaggy', 'Velma']\n"
          ]
        }
      ]
    },
    {
      "cell_type": "code",
      "source": [
        "# There is a third parameter to slicing that exists that allows you to skip elements\n",
        "\n",
        "print(characters[:])\n",
        "print(characters[::2])"
      ],
      "metadata": {
        "id": "xP2VO0AwCswH",
        "colab": {
          "base_uri": "https://localhost:8080/"
        },
        "outputId": "e2cba15f-eb18-4fcb-b65b-ebafd41eb903"
      },
      "execution_count": null,
      "outputs": [
        {
          "output_type": "stream",
          "name": "stdout",
          "text": [
            "['Scooby', 'Shaggy', 'Velma', 'Fred', 'Daphne', 'Mylo ofc']\n",
            "['Scooby', 'Velma', 'Daphne']\n"
          ]
        }
      ]
    },
    {
      "cell_type": "code",
      "source": [
        "# Lists are really good to use because they are mutable, which means you can change the data within them\n",
        "\n",
        "characters = [\"Scooby\", \"Shaggy\", \"Velma\", \"Fred\", \"Daphne\", \"Mylo ofc\"]\n",
        "print(\"Before:\", characters)\n",
        "\n",
        "\n",
        "print()\n",
        "# lets include Bogel\n",
        "characters[4] = \"Bogel\"\n",
        "print(\"After: \", characters)"
      ],
      "metadata": {
        "id": "FQUV-1JSDT_X",
        "colab": {
          "base_uri": "https://localhost:8080/"
        },
        "outputId": "503f616e-808a-4743-aa9e-e2b096677c40"
      },
      "execution_count": null,
      "outputs": [
        {
          "output_type": "stream",
          "name": "stdout",
          "text": [
            "Before: ['Scooby', 'Shaggy', 'Velma', 'Fred', 'Daphne', 'Mylo ofc']\n",
            "\n",
            "After:  ['Scooby', 'Shaggy', 'Velma', 'Fred', 'Bogel', 'Mylo ofc']\n"
          ]
        }
      ]
    },
    {
      "cell_type": "markdown",
      "source": [
        "##**List Methods**"
      ],
      "metadata": {
        "id": "pT2fSQ7gEDMn"
      }
    },
    {
      "cell_type": "code",
      "source": [
        "# Lists have numerous methods that allow you to work with the elements that they contain.\n",
        "# Python also provides some built-in functions that are useful for working with lists."
      ],
      "metadata": {
        "id": "3zaOE8USEsdo"
      },
      "execution_count": null,
      "outputs": []
    },
    {
      "cell_type": "code",
      "source": [
        "# Append method: is commonly used to add items to a list.\n",
        "\n",
        "characters = [\"Mario\", \"Luigi\", \"Peach\", \"Daisy\", \"Toad\", \"Yoshi\"]\n",
        "print(\"Before:\", characters)\n",
        "\n",
        "characters.append(\"Donkey Kong\")\n",
        "print(\"After:\", characters)\n"
      ],
      "metadata": {
        "id": "UhMiBBHKFwej",
        "colab": {
          "base_uri": "https://localhost:8080/"
        },
        "outputId": "2e28af98-6d0e-4be9-eb54-f82d4cebf9e8"
      },
      "execution_count": null,
      "outputs": [
        {
          "output_type": "stream",
          "name": "stdout",
          "text": [
            "Before: ['Mario', 'Luigi', 'Peach', 'Daisy', 'Toad', 'Yoshi']\n",
            "After: ['Mario', 'Luigi', 'Peach', 'Daisy', 'Toad', 'Yoshi', 'Donkey Kong']\n"
          ]
        }
      ]
    },
    {
      "cell_type": "code",
      "source": [
        "# Pop method: allows you to remove the element at a specified index\n",
        "\n",
        "characters = [\"Mario\", \"Luigi\", \"Peach\", \"Daisy\", \"Toad\", \"Yoshi\"]\n",
        "print(\"Before:\", characters)\n",
        "\n",
        "\n",
        "popped = characters.pop(4)\n",
        "print(\"After:\", characters)\n",
        "print(popped)"
      ],
      "metadata": {
        "id": "96VdyZRdHXR9",
        "colab": {
          "base_uri": "https://localhost:8080/"
        },
        "outputId": "31bdd3dc-7f09-4504-b596-2a6c0581db90"
      },
      "execution_count": null,
      "outputs": [
        {
          "output_type": "stream",
          "name": "stdout",
          "text": [
            "Before: ['Mario', 'Luigi', 'Peach', 'Daisy', 'Toad', 'Yoshi']\n",
            "After: ['Mario', 'Luigi', 'Peach', 'Daisy', 'Yoshi']\n",
            "Toad\n"
          ]
        }
      ]
    },
    {
      "cell_type": "code",
      "source": [
        "# Index method: allows you to find the index of a specified element in the list\n",
        "\n",
        "characters = [\"Mario\", \"Luigi\", \"Peach\", \"Daisy\", \"Toad\", \"Yoshi\"]\n",
        "print(characters)\n",
        "\n",
        "location = characters.index(\"Peach\")\n",
        "print(location)"
      ],
      "metadata": {
        "id": "iZid-9rBIDhl",
        "colab": {
          "base_uri": "https://localhost:8080/"
        },
        "outputId": "7466110f-ef8e-477f-95ff-e7b82967b0d7"
      },
      "execution_count": null,
      "outputs": [
        {
          "output_type": "stream",
          "name": "stdout",
          "text": [
            "['Mario', 'Luigi', 'Peach', 'Daisy', 'Toad', 'Yoshi']\n",
            "2\n"
          ]
        }
      ]
    },
    {
      "cell_type": "code",
      "source": [
        "# Sort Method: rearranges the elements of a list so they appear in ascending order.\n",
        "\n",
        "my_list = [9, 1, 0, 2, 8, 6, 7, 4, 5, 3]\n",
        "print(\"Before:\", my_list)\n",
        "\n",
        "my_list.sort()\n",
        "print(\"After:\", my_list)\n",
        "size = len(my_list) # len returns the legth of a sequence\n",
        "print(size)\n",
        "\n",
        "print()\n",
        "\n",
        "characters = [\"Mario\", \"Luigi\", \"Peach\", \"Daisy\", \"Toad\", \"Yoshi\"]\n",
        "print(\"Before: \", characters)\n",
        "\n",
        "characters.sort()\n",
        "print(\"After: \", characters)\n"
      ],
      "metadata": {
        "id": "NY6ZehWCG4EC",
        "colab": {
          "base_uri": "https://localhost:8080/"
        },
        "outputId": "59854948-f1cf-4bbf-c9df-e16180d5ef95"
      },
      "execution_count": null,
      "outputs": [
        {
          "output_type": "stream",
          "name": "stdout",
          "text": [
            "Before: [9, 1, 0, 2, 8, 6, 7, 4, 5, 3]\n",
            "After: [0, 1, 2, 3, 4, 5, 6, 7, 8, 9]\n",
            "10\n",
            "\n",
            "Before:  ['Mario', 'Luigi', 'Peach', 'Daisy', 'Toad', 'Yoshi']\n",
            "After:  ['Daisy', 'Luigi', 'Mario', 'Peach', 'Toad', 'Yoshi']\n"
          ]
        }
      ]
    },
    {
      "cell_type": "code",
      "source": [
        "# Reverse method: allows you to reverse a list\n",
        "\n",
        "characters = [\"Mario\", \"Luigi\", \"Peach\", \"Daisy\", \"Toad\", \"Yoshi\"]\n",
        "print(\"Before:\", characters)\n",
        "\n",
        "\n",
        "print()\n",
        "characters.reverse()\n",
        "print(\"After:\", characters)"
      ],
      "metadata": {
        "id": "vdf0Kiv8HGCH",
        "colab": {
          "base_uri": "https://localhost:8080/"
        },
        "outputId": "bcefba69-8073-490d-c200-31c567da2905"
      },
      "execution_count": null,
      "outputs": [
        {
          "output_type": "stream",
          "name": "stdout",
          "text": [
            "Before: ['Mario', 'Luigi', 'Peach', 'Daisy', 'Toad', 'Yoshi']\n",
            "\n",
            "After: ['Yoshi', 'Toad', 'Daisy', 'Peach', 'Luigi', 'Mario']\n"
          ]
        }
      ]
    },
    {
      "cell_type": "code",
      "source": [
        "# There are many other methods for lists but those are the most popular ones\n",
        "# To learn more about list methods, check out this website -> https://www.w3schools.com/python/python_ref_list.asp"
      ],
      "metadata": {
        "id": "xtR3qnWrMEVs"
      },
      "execution_count": null,
      "outputs": []
    },
    {
      "cell_type": "markdown",
      "source": [
        "##**Tuples**"
      ],
      "metadata": {
        "id": "hvQHo4VjM2FS"
      }
    },
    {
      "cell_type": "code",
      "source": [
        "# What is a tuple?\n",
        "# A tuple is an immutable data stucture that is used to store collections of data and is ordered using indicies as well\n",
        "# We use the () notation to create a tuple\n",
        "\n",
        "characters = (\"Mario\", \"Luigi\", \"Peach\", \"Daisy\", \"Toad\", \"Yoshi\")\n",
        "print(characters)"
      ],
      "metadata": {
        "id": "lO0SKwLVM4s7",
        "colab": {
          "base_uri": "https://localhost:8080/"
        },
        "outputId": "9278d052-69d1-4634-d013-27b135727d27"
      },
      "execution_count": null,
      "outputs": [
        {
          "output_type": "stream",
          "name": "stdout",
          "text": [
            "('Mario', 'Luigi', 'Peach', 'Daisy', 'Toad', 'Yoshi')\n"
          ]
        }
      ]
    },
    {
      "cell_type": "code",
      "source": [
        "# We can extract data from tuples like we did with lists\n",
        "\n",
        "print(characters[0])\n",
        "print(characters[-1])\n",
        "print(characters[1:3])"
      ],
      "metadata": {
        "id": "YSprDgyHNlIf",
        "colab": {
          "base_uri": "https://localhost:8080/"
        },
        "outputId": "2a4027cb-428f-48d6-abc6-e14d2c715c8b"
      },
      "execution_count": null,
      "outputs": [
        {
          "output_type": "stream",
          "name": "stdout",
          "text": [
            "Mario\n",
            "Yoshi\n",
            "('Luigi', 'Peach')\n"
          ]
        }
      ]
    },
    {
      "cell_type": "code",
      "source": [
        "# Tuples are different than lists because they are immutable, which means you CANNOT change the data within them\n",
        "\n",
        "characters = (\"Mario\", \"Luigi\", \"Peach\", \"Daisy\", \"Toad\", \"Yoshi\")\n",
        "characters[2] = \"Bowser\"\n",
        "\n",
        "# We cannot change Peach with Bowser"
      ],
      "metadata": {
        "id": "EDuCoJ2DNsBQ",
        "colab": {
          "base_uri": "https://localhost:8080/",
          "height": 251
        },
        "outputId": "fef2d678-14ec-483b-a73f-6f2c823f8b61"
      },
      "execution_count": null,
      "outputs": [
        {
          "output_type": "error",
          "ename": "TypeError",
          "evalue": "ignored",
          "traceback": [
            "\u001b[0;31m---------------------------------------------------------------------------\u001b[0m",
            "\u001b[0;31mTypeError\u001b[0m                                 Traceback (most recent call last)",
            "\u001b[0;32m<ipython-input-60-a8a04ee45098>\u001b[0m in \u001b[0;36m<cell line: 4>\u001b[0;34m()\u001b[0m\n\u001b[1;32m      2\u001b[0m \u001b[0;34m\u001b[0m\u001b[0m\n\u001b[1;32m      3\u001b[0m \u001b[0mcharacters\u001b[0m \u001b[0;34m=\u001b[0m \u001b[0;34m(\u001b[0m\u001b[0;34m\"Mario\"\u001b[0m\u001b[0;34m,\u001b[0m \u001b[0;34m\"Luigi\"\u001b[0m\u001b[0;34m,\u001b[0m \u001b[0;34m\"Peach\"\u001b[0m\u001b[0;34m,\u001b[0m \u001b[0;34m\"Daisy\"\u001b[0m\u001b[0;34m,\u001b[0m \u001b[0;34m\"Toad\"\u001b[0m\u001b[0;34m,\u001b[0m \u001b[0;34m\"Yoshi\"\u001b[0m\u001b[0;34m)\u001b[0m\u001b[0;34m\u001b[0m\u001b[0;34m\u001b[0m\u001b[0m\n\u001b[0;32m----> 4\u001b[0;31m \u001b[0mcharacters\u001b[0m\u001b[0;34m[\u001b[0m\u001b[0;36m2\u001b[0m\u001b[0;34m]\u001b[0m \u001b[0;34m=\u001b[0m \u001b[0;34m\"Bowser\"\u001b[0m\u001b[0;34m\u001b[0m\u001b[0;34m\u001b[0m\u001b[0m\n\u001b[0m\u001b[1;32m      5\u001b[0m \u001b[0;34m\u001b[0m\u001b[0m\n\u001b[1;32m      6\u001b[0m \u001b[0;31m# We cannot change Peach with Bowser\u001b[0m\u001b[0;34m\u001b[0m\u001b[0;34m\u001b[0m\u001b[0m\n",
            "\u001b[0;31mTypeError\u001b[0m: 'tuple' object does not support item assignment"
          ]
        }
      ]
    },
    {
      "cell_type": "code",
      "source": [
        "# Since tuples are immutable, they have limited methods\n",
        "\n",
        "# The count method returns the number of times a specified value occurs in a tuple\n",
        "array = [1, 1, 1, 2, 2, 3, 4, 5]\n",
        "print(array.count(1)) # 1 appears three times"
      ],
      "metadata": {
        "id": "ynJHzfuwODlo",
        "colab": {
          "base_uri": "https://localhost:8080/"
        },
        "outputId": "5c4436c7-5bdd-46bc-98e4-e5a8a8d81a58"
      },
      "execution_count": null,
      "outputs": [
        {
          "output_type": "stream",
          "name": "stdout",
          "text": [
            "3\n"
          ]
        }
      ]
    },
    {
      "cell_type": "code",
      "source": [
        "# The index method allows you to search for the FIRST index of a specified value in a tuple\n",
        "array = [1, 1, 1, 2, 2, 3, 4, 5]\n",
        "print(array.index(2))\n",
        "\n",
        "# Even though there are multiple 2's, only the first 2 index is displayed"
      ],
      "metadata": {
        "id": "_fMYkDEAOQJE",
        "colab": {
          "base_uri": "https://localhost:8080/"
        },
        "outputId": "638d0c25-b360-4062-cf92-2de9947997d3"
      },
      "execution_count": null,
      "outputs": [
        {
          "output_type": "stream",
          "name": "stdout",
          "text": [
            "3\n"
          ]
        }
      ]
    },
    {
      "cell_type": "markdown",
      "source": [
        "##**Dictionaries**"
      ],
      "metadata": {
        "id": "HVukTCLBOlD0"
      }
    },
    {
      "cell_type": "code",
      "source": [
        "# A dictionary is an object that stores a collection of data.\n",
        "# Each element has two parts: a key and a value.\n",
        "dictionary = {\"Mario\": 10, \"Luigi\": 9, \"Peach\": 11, \"Daisy\": 8, \"Toad\": 5, \"Yoshi\": 2}\n",
        "print(dictionary)"
      ],
      "metadata": {
        "id": "E9MZJKfXOorL",
        "colab": {
          "base_uri": "https://localhost:8080/"
        },
        "outputId": "b028eff6-43e1-4c17-ea79-a70a62c3bcb3"
      },
      "execution_count": null,
      "outputs": [
        {
          "output_type": "stream",
          "name": "stdout",
          "text": [
            "{'Mario': 10, 'Luigi': 9, 'Peach': 11, 'Daisy': 8, 'Toad': 5, 'Yoshi': 2}\n"
          ]
        }
      ]
    },
    {
      "cell_type": "code",
      "source": [
        "# We can also display dictionaries in this way, which is more common to see in the industry\n",
        "dictionary = {\n",
        "    \"Mario\": 10,\n",
        "    \"Luigi\": 9,\n",
        "    \"Peach\": 11,\n",
        "    \"Daisy\": 8,\n",
        "    \"Toad\": 5,\n",
        "    \"Yoshi\": 2\n",
        "}\n",
        "print(dictionary)"
      ],
      "metadata": {
        "id": "AwfXE4QvRN8E",
        "colab": {
          "base_uri": "https://localhost:8080/"
        },
        "outputId": "a4fac881-c28a-41cb-89aa-2c8c5c734f3e"
      },
      "execution_count": null,
      "outputs": [
        {
          "output_type": "stream",
          "name": "stdout",
          "text": [
            "{'Mario': 10, 'Luigi': 9, 'Peach': 11, 'Daisy': 8, 'Toad': 5, 'Yoshi': 2}\n"
          ]
        }
      ]
    },
    {
      "cell_type": "code",
      "source": [
        "# If you want to get a specific value, you must use the appropriate key\n",
        "\n",
        "# Let's find the strength of Toad\n",
        "print(dictionary[\"Toad\"])"
      ],
      "metadata": {
        "id": "OuZ_JFplRfUv",
        "colab": {
          "base_uri": "https://localhost:8080/"
        },
        "outputId": "3863456c-9964-451b-cb7f-aaa0459046c0"
      },
      "execution_count": null,
      "outputs": [
        {
          "output_type": "stream",
          "name": "stdout",
          "text": [
            "5\n"
          ]
        }
      ]
    },
    {
      "cell_type": "code",
      "source": [
        "#example\n",
        "print(dictionary[\"Bowser\"])\n",
        "\n",
        "# This will give you an error"
      ],
      "metadata": {
        "id": "ZYYPGp5xRssC",
        "colab": {
          "base_uri": "https://localhost:8080/",
          "height": 251
        },
        "outputId": "7aa821d8-1a1d-4b4d-8fc9-7d5ad4ef8ccc"
      },
      "execution_count": null,
      "outputs": [
        {
          "output_type": "error",
          "ename": "KeyError",
          "evalue": "ignored",
          "traceback": [
            "\u001b[0;31m---------------------------------------------------------------------------\u001b[0m",
            "\u001b[0;31mKeyError\u001b[0m                                  Traceback (most recent call last)",
            "\u001b[0;32m<ipython-input-70-6fd85fabbe87>\u001b[0m in \u001b[0;36m<cell line: 2>\u001b[0;34m()\u001b[0m\n\u001b[1;32m      1\u001b[0m \u001b[0;31m#example\u001b[0m\u001b[0;34m\u001b[0m\u001b[0;34m\u001b[0m\u001b[0m\n\u001b[0;32m----> 2\u001b[0;31m \u001b[0mprint\u001b[0m\u001b[0;34m(\u001b[0m\u001b[0mdictionary\u001b[0m\u001b[0;34m[\u001b[0m\u001b[0;34m\"Bowser\"\u001b[0m\u001b[0;34m]\u001b[0m\u001b[0;34m)\u001b[0m\u001b[0;34m\u001b[0m\u001b[0;34m\u001b[0m\u001b[0m\n\u001b[0m\u001b[1;32m      3\u001b[0m \u001b[0;34m\u001b[0m\u001b[0m\n\u001b[1;32m      4\u001b[0m \u001b[0;31m# This will give you an error\u001b[0m\u001b[0;34m\u001b[0m\u001b[0;34m\u001b[0m\u001b[0m\n\u001b[1;32m      5\u001b[0m \u001b[0;34m\u001b[0m\u001b[0m\n",
            "\u001b[0;31mKeyError\u001b[0m: 'Bowser'"
          ]
        }
      ]
    },
    {
      "cell_type": "code",
      "source": [
        "# Since Bowser is not part of the dictionary, we will get an error\n",
        "# To avoid getting errors about invalid keys, we can use the get() method to bypass this\n",
        "\n",
        "print(dictionary.get(\"Bowser\"))"
      ],
      "metadata": {
        "id": "jzHAgVTYRwj7",
        "colab": {
          "base_uri": "https://localhost:8080/"
        },
        "outputId": "072b4c56-e889-4886-f9d9-e3edd573a82e"
      },
      "execution_count": null,
      "outputs": [
        {
          "output_type": "stream",
          "name": "stdout",
          "text": [
            "None\n"
          ]
        }
      ]
    },
    {
      "cell_type": "code",
      "source": [
        "# To add a record into a dictionary, we can use the new key and assign it to a value\n",
        "# Let's finally add Bowser to the dictionary\n",
        "print(\"Before:\", dictionary)\n",
        "\n",
        "dictionary[\"Bowser\"] = 10\n",
        "print(\"After:\", dictionary)"
      ],
      "metadata": {
        "id": "f5EZB-XTSZa6",
        "colab": {
          "base_uri": "https://localhost:8080/"
        },
        "outputId": "f3b4fd47-3ecc-4222-f4ec-42dbf25082ed"
      },
      "execution_count": null,
      "outputs": [
        {
          "output_type": "stream",
          "name": "stdout",
          "text": [
            "Before: {'Mario': 10, 'Luigi': 9, 'Peach': 11, 'Daisy': 8, 'Toad': 5, 'Yoshi': 2}\n",
            "After: {'Mario': 10, 'Luigi': 9, 'Peach': 11, 'Daisy': 8, 'Toad': 5, 'Yoshi': 2, 'Bowser': 10}\n"
          ]
        }
      ]
    },
    {
      "cell_type": "code",
      "source": [
        "# To delete a record from a dictionary, we can use the del keyword\n",
        "\n",
        "# Actually, let's delete Bowser again\n",
        "print(\"Before:\", dictionary)\n",
        "\n",
        "del dictionary[\"Bowser\"]\n",
        "print(\"After:\", dictionary)"
      ],
      "metadata": {
        "id": "OnfuTq4DSy05",
        "colab": {
          "base_uri": "https://localhost:8080/"
        },
        "outputId": "ad3937a2-e6c3-4c83-9f5f-04b5e372fee9"
      },
      "execution_count": null,
      "outputs": [
        {
          "output_type": "stream",
          "name": "stdout",
          "text": [
            "Before: {'Mario': 10, 'Luigi': 9, 'Peach': 11, 'Daisy': 8, 'Toad': 5, 'Yoshi': 2, 'Bowser': 10}\n",
            "After: {'Mario': 10, 'Luigi': 9, 'Peach': 11, 'Daisy': 8, 'Toad': 5, 'Yoshi': 2}\n"
          ]
        }
      ]
    },
    {
      "cell_type": "code",
      "source": [
        "# To change a record from a dictionary, we can reassign the value using the key\n",
        "\n",
        "# Mario ate a super mushroom\n",
        "print(\"Before:\", dictionary)\n",
        "\n",
        "dictionary[\"Mario\"] = 20\n",
        "print(\"After:\", dictionary)"
      ],
      "metadata": {
        "id": "AzdjfhmYTJ7U",
        "colab": {
          "base_uri": "https://localhost:8080/"
        },
        "outputId": "b8808a73-2b81-41d6-d838-14dc734b7126"
      },
      "execution_count": null,
      "outputs": [
        {
          "output_type": "stream",
          "name": "stdout",
          "text": [
            "Before: {'Mario': 10, 'Luigi': 9, 'Peach': 11, 'Daisy': 8, 'Toad': 5, 'Yoshi': 2}\n",
            "After: {'Mario': 20, 'Luigi': 9, 'Peach': 11, 'Daisy': 8, 'Toad': 5, 'Yoshi': 2}\n"
          ]
        }
      ]
    },
    {
      "cell_type": "code",
      "source": [
        "# To see all of the keys in your dictionary, we can use the keys() function\n",
        "print(dictionary.keys())"
      ],
      "metadata": {
        "id": "jo2ijsFnTgNL",
        "colab": {
          "base_uri": "https://localhost:8080/"
        },
        "outputId": "070e8da0-4db8-4ea0-e8b2-1a0547b3d343"
      },
      "execution_count": null,
      "outputs": [
        {
          "output_type": "stream",
          "name": "stdout",
          "text": [
            "dict_keys(['Mario', 'Luigi', 'Peach', 'Daisy', 'Toad', 'Yoshi'])\n"
          ]
        }
      ]
    },
    {
      "cell_type": "code",
      "source": [
        "# To see all of the values in your dictionary, we can use the values() function\n",
        "print(dictionary.values())"
      ],
      "metadata": {
        "id": "B8GChzmmTkHc",
        "colab": {
          "base_uri": "https://localhost:8080/"
        },
        "outputId": "59ad86c9-fae5-412b-a1ac-fddebbf4e5d7"
      },
      "execution_count": null,
      "outputs": [
        {
          "output_type": "stream",
          "name": "stdout",
          "text": [
            "dict_values([20, 9, 11, 8, 5, 2])\n"
          ]
        }
      ]
    },
    {
      "cell_type": "code",
      "source": [
        "# There are many other methods for dictionaries\n",
        "# To learn more, please visit https://www.w3schools.com/python/python_dictionaries.asp"
      ],
      "metadata": {
        "id": "RTv7XQVETq2z"
      },
      "execution_count": null,
      "outputs": []
    },
    {
      "cell_type": "markdown",
      "source": [
        "##**Sets**"
      ],
      "metadata": {
        "id": "oU8P5qNTOUx6"
      }
    },
    {
      "cell_type": "code",
      "source": [
        "# A set is an unordered collection of items where every element is UNIQUE\n",
        "# We use the set() function to initialize a set\n",
        "cards = set()"
      ],
      "metadata": {
        "id": "mjPNyoT6OXYu"
      },
      "execution_count": null,
      "outputs": []
    },
    {
      "cell_type": "code",
      "source": [
        "# We can also initialize them by using the set() function on a list, or by populating {} with values\n",
        "\n",
        "cards = set([1, 1, 1, 2, 2, 3, 4, 5])\n",
        "print(cards)\n",
        "\n",
        "cards = {1, 1, 1, 2, 2, 3, 4, 5}\n",
        "print(cards)"
      ],
      "metadata": {
        "id": "f2p-nKxmPEAv",
        "colab": {
          "base_uri": "https://localhost:8080/"
        },
        "outputId": "86d9620b-32f2-4aa6-afb1-15c5916d5731"
      },
      "execution_count": null,
      "outputs": [
        {
          "output_type": "stream",
          "name": "stdout",
          "text": [
            "{1, 2, 3, 4, 5}\n",
            "{1, 2, 3, 4, 5}\n"
          ]
        }
      ]
    },
    {
      "cell_type": "code",
      "source": [
        "# Sets are one of the most important data structures in Python because it can only contain unique values\n",
        "\n",
        "# The add method allows us to add an element into the set\n",
        "cards = {1, 2, 3, 4, 5}\n",
        "print(\"Before:\", cards)\n",
        "cards.add(6)\n",
        "print(\"After:\", cards)"
      ],
      "metadata": {
        "id": "gsQLZpnqPfZ9",
        "colab": {
          "base_uri": "https://localhost:8080/"
        },
        "outputId": "6fe9a60c-dc11-4c1f-d0cb-533a55b6c3b7"
      },
      "execution_count": null,
      "outputs": [
        {
          "output_type": "stream",
          "name": "stdout",
          "text": [
            "Before: {1, 2, 3, 4, 5}\n",
            "After: {1, 2, 3, 4, 5, 6}\n"
          ]
        }
      ]
    },
    {
      "cell_type": "code",
      "source": [
        "# The remove method allows us to delete an element from the set\n",
        "cards = {1, 2, 3, 4, 5}\n",
        "print(\"Before:\", cards)\n",
        "cards.remove(5)\n",
        "print(\"After:\", cards)"
      ],
      "metadata": {
        "id": "L3qqpmb8PiIG",
        "colab": {
          "base_uri": "https://localhost:8080/"
        },
        "outputId": "ab60146e-aaac-4d1e-881f-5715c342efc3"
      },
      "execution_count": null,
      "outputs": [
        {
          "output_type": "stream",
          "name": "stdout",
          "text": [
            "Before: {1, 2, 3, 4, 5}\n",
            "After: {1, 2, 3, 4}\n"
          ]
        }
      ]
    },
    {
      "cell_type": "code",
      "source": [
        "# Sets are also important because they apply directly to Set Theory\n",
        "\n",
        "# The difference method returns a set that contains the difference between two or more sets\n",
        "a = {1, 2, 3, 4}\n",
        "b = {3, 4, 5, 6}\n",
        "\n",
        "# What values in a are NOT in b?\n",
        "print(a.difference(b))\n",
        "# What values in b are NOT in a?\n",
        "print(b.difference(a))"
      ],
      "metadata": {
        "id": "WC9bR02ePsjl",
        "colab": {
          "base_uri": "https://localhost:8080/"
        },
        "outputId": "c29b9a53-966b-4eb2-828b-8f7e74accef7"
      },
      "execution_count": null,
      "outputs": [
        {
          "output_type": "stream",
          "name": "stdout",
          "text": [
            "{1, 2}\n",
            "{5, 6}\n"
          ]
        }
      ]
    },
    {
      "cell_type": "code",
      "source": [
        "# The intersection method allows us to see what two sets have in common\n",
        "a = {1, 2, 3, 4}\n",
        "b = {3, 4, 5, 6}\n",
        "\n",
        "# What do a and b have in common?\n",
        "print(a.intersection(b))"
      ],
      "metadata": {
        "id": "sp8mDvWEPwGp"
      },
      "execution_count": null,
      "outputs": []
    },
    {
      "cell_type": "code",
      "source": [
        "# The union method returns the union of sets\n",
        "a = {1, 2, 3, 4}\n",
        "b = {3, 4, 5, 6}\n",
        "\n",
        "# Let's combine two sets\n",
        "print(a.union(b))"
      ],
      "metadata": {
        "id": "uvW191A6PyM-",
        "colab": {
          "base_uri": "https://localhost:8080/"
        },
        "outputId": "a1e22c89-26f0-455b-8444-b5b549abcaf9"
      },
      "execution_count": null,
      "outputs": [
        {
          "output_type": "stream",
          "name": "stdout",
          "text": [
            "{1, 2, 3, 4, 5, 6}\n"
          ]
        }
      ]
    },
    {
      "cell_type": "code",
      "source": [
        "# There are many other methods that sets have but for this tutorial, these are the main ones\n",
        "# If you are interested in learning more, feel free to go to https://www.w3schools.com/python/python_sets_methods.asp"
      ],
      "metadata": {
        "id": "W5XQV_9HP0Ps"
      },
      "execution_count": null,
      "outputs": []
    },
    {
      "cell_type": "markdown",
      "source": [
        "##**Functions**"
      ],
      "metadata": {
        "id": "ygNEy9y7TuKr"
      }
    },
    {
      "cell_type": "code",
      "source": [
        "# Functions are groups of statements that exist within a program for the purpose of performing a specific task.\n",
        "# They are defined using the def keyword\n",
        "# Indentation is important\n",
        "\n",
        "# This function here prints good old hello world\n",
        "def greeting():\n",
        "  print(\"Hello World!\")\n",
        "\n",
        "# To use a function, we call it by simply stating the name of the function and its parameters\n",
        "# Since this function has no parameters, we can simply do this:\n",
        "greeting()"
      ],
      "metadata": {
        "id": "ISzDNdLjTxck",
        "colab": {
          "base_uri": "https://localhost:8080/"
        },
        "outputId": "a926f7d0-652c-411b-92c1-e37129fd3c33"
      },
      "execution_count": null,
      "outputs": [
        {
          "output_type": "stream",
          "name": "stdout",
          "text": [
            "Hello World!\n"
          ]
        }
      ]
    },
    {
      "cell_type": "code",
      "source": [
        "# We can also put parameters into functions as well, called positional arguments\n",
        "\n",
        "def greeting(name):\n",
        "  print(\"Hello! My name is\", name)\n",
        "\n",
        "greeting(\"Christina\")\n",
        "greeting(\"Wylie\")\n",
        "greeting(\"Jenny\")\n",
        "greeting(\"Mylo ofc\")"
      ],
      "metadata": {
        "id": "2aO6Bpt6Ue2N",
        "colab": {
          "base_uri": "https://localhost:8080/"
        },
        "outputId": "c83c7917-84c7-4ffd-f33b-3ed6fb90b828"
      },
      "execution_count": null,
      "outputs": [
        {
          "output_type": "stream",
          "name": "stdout",
          "text": [
            "Hello! My name is Christina\n",
            "Hello! My name is Wylie\n",
            "Hello! My name is Jenny\n",
            "Hello! My name is Mylo ofc\n"
          ]
        }
      ]
    },
    {
      "cell_type": "code",
      "source": [
        "# If we don't specify the correct parameters, we will get an error\n",
        "\n",
        "def greeting(name):\n",
        "  print(\"Hello! My name is\", name)\n",
        "\n",
        "greeting()"
      ],
      "metadata": {
        "id": "02tN1o6ZUr07",
        "colab": {
          "base_uri": "https://localhost:8080/",
          "height": 215
        },
        "outputId": "351c4849-3813-45e7-8e67-4cd0c090e4f8"
      },
      "execution_count": null,
      "outputs": [
        {
          "output_type": "error",
          "ename": "TypeError",
          "evalue": "ignored",
          "traceback": [
            "\u001b[0;31m---------------------------------------------------------------------------\u001b[0m",
            "\u001b[0;31mTypeError\u001b[0m                                 Traceback (most recent call last)",
            "\u001b[0;32m<ipython-input-87-7d805c6a4fff>\u001b[0m in \u001b[0;36m<cell line: 6>\u001b[0;34m()\u001b[0m\n\u001b[1;32m      4\u001b[0m   \u001b[0mprint\u001b[0m\u001b[0;34m(\u001b[0m\u001b[0;34m\"Hello! My name is\"\u001b[0m\u001b[0;34m,\u001b[0m \u001b[0mname\u001b[0m\u001b[0;34m)\u001b[0m\u001b[0;34m\u001b[0m\u001b[0;34m\u001b[0m\u001b[0m\n\u001b[1;32m      5\u001b[0m \u001b[0;34m\u001b[0m\u001b[0m\n\u001b[0;32m----> 6\u001b[0;31m \u001b[0mgreeting\u001b[0m\u001b[0;34m(\u001b[0m\u001b[0;34m)\u001b[0m\u001b[0;34m\u001b[0m\u001b[0;34m\u001b[0m\u001b[0m\n\u001b[0m",
            "\u001b[0;31mTypeError\u001b[0m: greeting() missing 1 required positional argument: 'name'"
          ]
        }
      ]
    },
    {
      "cell_type": "code",
      "source": [
        "# To take that into account, we can add a keyword argument by using the = operator\n",
        "# The value assigned to the argument will act like a default value\n",
        "\n",
        "def greeting(name = \"Mylo\"):\n",
        "  print(\"Hello! My name is\", name)\n",
        "\n",
        "greeting()\n",
        "# back to Mylo ofc!"
      ],
      "metadata": {
        "id": "fBxP4ngQUyPQ",
        "colab": {
          "base_uri": "https://localhost:8080/"
        },
        "outputId": "90124894-e10e-48eb-af0e-63e3191c57d2"
      },
      "execution_count": null,
      "outputs": [
        {
          "output_type": "stream",
          "name": "stdout",
          "text": [
            "Hello! My name is Mylo\n"
          ]
        }
      ]
    },
    {
      "cell_type": "code",
      "source": [
        "# We can also have multiple parameters in a function as well\n",
        "\n",
        "def intro(name, toy):\n",
        "  print(\"Hello everyone! My name is\", name, \"and I love my\", toy + \"!\")\n",
        "\n",
        "intro(\"Mylo\", \"Cat Tree Tower\")"
      ],
      "metadata": {
        "id": "25d-0jq3VCiZ",
        "colab": {
          "base_uri": "https://localhost:8080/"
        },
        "outputId": "7d1bfe39-f704-4729-a424-66d9e21b3b45"
      },
      "execution_count": null,
      "outputs": [
        {
          "output_type": "stream",
          "name": "stdout",
          "text": [
            "Hello everyone! My name is Mylo and I love my Cat Tree Tower!\n"
          ]
        }
      ]
    },
    {
      "cell_type": "code",
      "source": [
        "# Since these are positional arguments, the order in which the arguments are given matter\n",
        "\n",
        "# Example:\n",
        "def intro(name, toy):\n",
        "  print(\"Hello everyone! My name is\", name, \"and I love my\", toy + \"!\")\n",
        "\n",
        "intro(\"Cat Tree Tower\", \"Mylo\")"
      ],
      "metadata": {
        "id": "ZoGN3C0tV2b0",
        "colab": {
          "base_uri": "https://localhost:8080/"
        },
        "outputId": "cb8956db-794c-4253-b82a-8c114aaeb023"
      },
      "execution_count": null,
      "outputs": [
        {
          "output_type": "stream",
          "name": "stdout",
          "text": [
            "Hello everyone! My name is Cat Tree Tower and I love my Mylo!\n"
          ]
        }
      ]
    },
    {
      "cell_type": "code",
      "source": [
        "# We can also have functions return a value that can be used for other uses\n",
        "\n",
        "# Let's create a function to find the area of a rectangle\n",
        "def area(length, width):\n",
        "  return length * width\n",
        "\n",
        "a = area(5, 8)\n",
        "print(\"The area is\", a)\n"
      ],
      "metadata": {
        "id": "Xo8ZsHy4XBa0",
        "colab": {
          "base_uri": "https://localhost:8080/"
        },
        "outputId": "b521d960-f4db-4d4d-dfe7-e9d5fbf80116"
      },
      "execution_count": null,
      "outputs": [
        {
          "output_type": "stream",
          "name": "stdout",
          "text": [
            "The area is 40\n"
          ]
        }
      ]
    },
    {
      "cell_type": "code",
      "source": [
        "# Let's create a function to find the volume of a rectangular prism\n",
        "def volume(length, width, height):\n",
        "  return length * width * height\n",
        "\n",
        "v = volume(10, 4, 9)\n",
        "print(\"The volume is\", v)"
      ],
      "metadata": {
        "id": "0-xMoGb-XGBA",
        "colab": {
          "base_uri": "https://localhost:8080/"
        },
        "outputId": "b90e07ec-3ccd-477f-8465-6ce30ccae00e"
      },
      "execution_count": null,
      "outputs": [
        {
          "output_type": "stream",
          "name": "stdout",
          "text": [
            "The volume is 360\n"
          ]
        }
      ]
    },
    {
      "cell_type": "markdown",
      "source": [
        "#**Thank you for joining or Intro to Python workshop!!**\n",
        "\n",
        "##**Now it is time for the prizes :D**"
      ],
      "metadata": {
        "id": "pRnQR_naXH4u"
      }
    }
  ]
}